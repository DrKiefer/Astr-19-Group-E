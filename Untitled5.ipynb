{
 "cells": [
  {
   "cell_type": "code",
   "execution_count": 51,
   "id": "0dd2858b-8a52-4827-8a41-732f0ae68036",
   "metadata": {},
   "outputs": [
    {
     "name": "stdout",
     "output_type": "stream",
     "text": [
      "2.15.0\n"
     ]
    }
   ],
   "source": [
    "import numpy as np\n",
    "import matplotlib.pyplot as plt \n",
    "import tensorflow as tf\n",
    "from scipy import optimize\n",
    "print(tf.__version__)"
   ]
  },
  {
   "cell_type": "code",
   "execution_count": 66,
   "id": "9817fc3a-4289-4417-be68-76d3e520b49c",
   "metadata": {},
   "outputs": [],
   "source": [
    "def sinx(x,a,b,c,d,e,f):\n",
    "    return (a*np.cos((x+e*b))) + (c * np.cos((d * x+e))) + f"
   ]
  },
  {
   "cell_type": "code",
   "execution_count": 67,
   "id": "b1108671-b694-4af6-95b1-e268ad313e06",
   "metadata": {},
   "outputs": [
    {
     "name": "stdout",
     "output_type": "stream",
     "text": [
      "['1' '1' '2' '2' '3' '3' '4' '4' '5' '5' '6' '6' '7' '7' '8' '8' '9' '9'\n",
      " '10' '10' '11' '11' '12' '12' '13' '13' '14' '14' '15' '15' '16' '16'\n",
      " '17' '17' '18' '18' '19' '19' '20' '20' '21' '21' '22' '22' '23' '23'\n",
      " '24' '24' '25' '25' '26' '26' '27' '27' '28' '28' '29' '29' '30' '30'\n",
      " '31' '31' '32' '32' '33' '33' '34' '34' '35' '35' '36' '36' '37' '37'\n",
      " '38' '38' '39' '39' '40' '40' '41' '41']\n",
      "['8:07' '15:37' '8:55' '16:25' '9:45' '17:14' '10:35' '18:00' '11:28'\n",
      " '18:46' '12:22' '19:31' '13:24' '20:16' '3:22' '21:01' '4:07' '21:46'\n",
      " '4:50' '11:58' '5:31' '12:56' '6:08' '13:45' '6:47' '14:25' '7:22'\n",
      " '15:00' '7:59' '15:34' '8:34' '16:08' '9:10' '16:41' '9:45' '17:12'\n",
      " '10:21' '17:45' '10:57' '18:15' '11:38' '18:48' '12:25' '19:20' '2:22'\n",
      " '19:52' '2:58' '20:30' '3:37' '10:44' '4:23' '11:55' '5:15' '12:57'\n",
      " '6:09' '13:50' '7:05' '14:39' '7:58' '15:27' '8:50' '16:10' '9:40'\n",
      " '16:52' '10:30' '17:34' '11:19' '18:12' '12:10' '18:49' '1:32' '19:24'\n",
      " '2:13' '20:00' '2:54' '9:54' '3:39' '11:15' '4:29' '12:22' '5:21' '13:14']\n",
      "['6.57' '-0.39' '5.38' '-1.74' '5.26' '-1.36' '4.13' '-1.15' '3.48'\n",
      " '-1.61' '2.62' '0.05' '1.83' '1.01' '3.57' '0.73' '4.54' '2.17' '3.76'\n",
      " '2.88' '3.90' '1.92' '4.73' '1.74' '5.66' '0.79' '5.33' '-0.04' '5.23'\n",
      " '-1.12' '6.67' '-0.61' '4.74' '-0.93' '4.69' '-1.29' '4.20' '0.22' '3.68'\n",
      " '0.26' '2.47' '0.36' '2.59' '0.99' '4.10' '1.87' '3.17' '1.60' '3.71'\n",
      " '3.10' '4.04' '2.49' '4.07' '2.18' '5.93' '0.70' '6.89' '0.21' '6.72'\n",
      " '0.22' '6.77' '-1.68' '5.77' '-1.32' '4.35' '-0.73' '4.23' '-0.38' '2.24'\n",
      " '-0.61' '3.45' '-0.46' '4.13' '1.21' '3.34' '2.58' '3.32' '3.26' '5.21'\n",
      " '2.39' '4.83' '2.41']\n"
     ]
    }
   ],
   "source": [
    "dataset = \"ASTR19_S22_group_project_data(1).txt\"\n",
    "infile = open(dataset, 'r+')\n",
    "lines = infile.readlines()\n",
    "\n",
    "days = np.array(['        '])\n",
    "time = np.array(['        '])\n",
    "height = np.array(['       '])\n",
    "for line in lines:\n",
    "    sline = line.strip().split()\n",
    "    #print(sline) \n",
    "    days = np.insert(days, 0, sline[0])\n",
    "    time = np.insert(time, 0, sline[1])\n",
    "    height = np.insert(height, 0, sline[2])\n",
    "infile.close()\n",
    "days = np.flip(days)\n",
    "time = np.flip(time)\n",
    "height = np.flip(height)\n",
    "days = days[4:]\n",
    "time = time[4:]\n",
    "height = height[4:]\n",
    "print(days)\n",
    "print(time)\n",
    "print(height)\n",
    "\n",
    "fDays = days.astype(float)\n",
    "#print(fDays)\n",
    "fHeight = height.astype(float)\n",
    "#print(fHeight)\n",
    "fHours = np.array([])\n",
    "for i in time:\n",
    "    splitTime = i.split(':')\n",
    "    hoursMinutes = float(splitTime[0]) + (float(splitTime[1])/60.0)\n",
    "    hoursMinutes = hoursMinutes/24\n",
    "    fHours = np.append(fHours, hoursMinutes)\n",
    "    #print(splitTime)\n",
    "\n",
    "dayMinutes = np.array([0.0])\n",
    "for i in range(82):\n",
    "    dayTime = fDays[i]+fHours[i]\n",
    "    dayMinutes = np.append(dayMinutes, dayTime)\n",
    "\n",
    "dayMinutes = dayMinutes[1:]\n"
   ]
  },
  {
   "cell_type": "code",
   "execution_count": 68,
   "id": "809f1075-8a6b-443f-a721-5901d757e645",
   "metadata": {},
   "outputs": [],
   "source": [
    "x = dayMinutes.astype(np.float32)\n",
    "x = tf.convert_to_tensor(x)\n",
    "y = fHeight.astype(np.float32)\n",
    "y = tf.convert_to_tensor(y)\n",
    "y_err = 0.25"
   ]
  },
  {
   "cell_type": "code",
   "execution_count": 69,
   "id": "644086a5-c954-49b6-9a67-b73fb127420b",
   "metadata": {},
   "outputs": [
    {
     "data": {
      "text/plain": [
       "Text(0.5, 1.2, '$\\\\sigma = 1$')"
      ]
     },
     "execution_count": 69,
     "metadata": {},
     "output_type": "execute_result"
    },
    {
     "data": {
      "image/png": "[encoded data removed]",
      "text/plain": [
       "<Figure size 700x700 with 1 Axes>"
      ]
     },
     "metadata": {},
     "output_type": "display_data"
    }
   ],
   "source": [
    "f, ax = plt.subplots(1,1,figsize=(7,7))\n",
    "for tick in ax.xaxis.get_ticklabels():\n",
    "    tick.set_fontsize(20)\n",
    "for tick in ax.yaxis.get_ticklabels():\n",
    "    tick.set_fontsize(20)\n",
    "ax.errorbar(x,y,y_err,fmt='o',label='Data')\n",
    "ax.text(0.5,1.2,r'$\\sigma = 1$', color='0', fontsize=32)"
   ]
  },
  {
   "cell_type": "code",
   "execution_count": 81,
   "id": "103e9710-ea12-4537-b9df-f58584345ba7",
   "metadata": {},
   "outputs": [],
   "source": [
    "A_init = 0.3\n",
    "A = tf.Variable(A_init,name='amplitude')\n",
    "\n",
    "f_init = 8.5\n",
    "B = tf.Variable(f_init, name='freq')\n",
    "\n",
    "p_init = 2.\n",
    "C = tf.Variable(p_init, name='phase')\n",
    "\n",
    "d_init = -4.\n",
    "D = tf.Variable(d_init)\n",
    "\n",
    "e_init = 7.\n",
    "E = tf.Variable(e_init)\n",
    "\n",
    "q_init = 2.0\n",
    "F = tf.Variable(q_init)"
   ]
  },
  {
   "cell_type": "code",
   "execution_count": 87,
   "id": "4b7656cc-dc99-4747-8108-2f8d4ce7c225",
   "metadata": {},
   "outputs": [],
   "source": [
    "@tf.function\n",
    "def sin_mod(x):\n",
    "    return (A*tf.math.cos((x+E*B))) + (C * tf.math.cos((D * x+E))) + F"
   ]
  },
  {
   "cell_type": "code",
   "execution_count": 88,
   "id": "b858dfc6-9e69-426d-9b49-423203dbf3c6",
   "metadata": {},
   "outputs": [],
   "source": [
    "@tf.function\n",
    "def mse(y_true, y_pred):\n",
    "    return tf.losses.mean_squared_error(y_true,y_pred)"
   ]
  },
  {
   "cell_type": "code",
   "execution_count": 89,
   "id": "09543ad9-5d0e-4904-a3e7-50d9dc21cfa6",
   "metadata": {},
   "outputs": [],
   "source": [
    "optimizer = tf.keras.optimizers.Adam(learning_rate=0.001)"
   ]
  },
  {
   "cell_type": "code",
   "execution_count": 90,
   "id": "9952f488-2830-4479-b97d-e2c8367a6e4d",
   "metadata": {},
   "outputs": [
    {
     "name": "stdout",
     "output_type": "stream",
     "text": [
      "Epoch 0 | loss 5.656752109527588, A: 0.12541474401950836, f: 11.568249702453613, p:0.18484985828399658\n",
      "Epoch 1000 | loss 5.64113712310791, A: 0.1251000314950943, f: 11.493346214294434, p:0.18634770810604095\n",
      "Epoch 2000 | loss 5.641119003295898, A: 0.12504801154136658, f: 11.532388687133789, p:0.18657280504703522\n",
      "Epoch 3000 | loss 5.641098499298096, A: 0.12497899681329727, f: 11.58670711517334, p:0.18680179119110107\n",
      "Epoch 4000 | loss 5.641084671020508, A: 0.12490465492010117, f: 11.646356582641602, p:0.1870177537202835\n",
      "Epoch 5000 | loss 5.641077518463135, A: 0.12484690546989441, f: 11.695015907287598, p:0.18718567490577698\n",
      "Epoch 6000 | loss 5.641077041625977, A: 0.12481769919395447, f: 11.720279693603516, p:0.187280535697937\n",
      "Epoch 7000 | loss 5.641077041625977, A: 0.12480910867452621, f: 11.72675609588623, p:0.18728742003440857\n",
      "Epoch 8000 | loss 5.641076564788818, A: 0.1248093917965889, f: 11.727294921875, p:0.18728101253509521\n",
      "Epoch 9000 | loss 5.641076564788818, A: 0.12480835616588593, f: 11.72729778289795, p:0.1872779130935669\n",
      "Epoch 9999 | loss 5.641077041625977, A: 0.12480609118938446, B: 11.727293968200684, C:0.1872018277645111, D:-3.787510395050049, E:5.167722702026367, F:2.467905044555664 \n",
      "done\n"
     ]
    }
   ],
   "source": [
    "epochs = 10000\n",
    "display_step = 1000\n",
    "\n",
    "for epoch in range(epochs):\n",
    "    if((epoch%display_step)==0):\n",
    "        pred = sin_mod(x)\n",
    "        loss = mse(pred,y)\n",
    "        print(f\"Epoch {epoch} | loss {loss.numpy()}, A: {A.numpy()}, f: {B.numpy()}, p:{C.numpy()}\")\n",
    "    with tf.GradientTape() as g:\n",
    "        pred = sin_mod(x)\n",
    "        loss = mse(y,pred)\n",
    "    gradients = g.gradient(loss, [A,B,C,D,E,F])\n",
    "    optimizer.apply_gradients(zip(gradients,[A,B,C,D,E,F]))\n",
    "print(f\"Epoch {epoch} | loss {loss.numpy()}, A: {A.numpy()}, B: {B.numpy()}, C:{C.numpy()}, D:{D.numpy()}, E:{E.numpy()}, F:{F.numpy()} \")\n",
    "print(\"done\")"
   ]
  },
  {
   "cell_type": "code",
   "execution_count": 93,
   "id": "83c95879-eb6a-481e-a7fd-859e375928df",
   "metadata": {},
   "outputs": [
    {
     "data": {
      "text/plain": [
       "Text(0.5, 1.2, '$\\\\sigma = 1$')"
      ]
     },
     "execution_count": 93,
     "metadata": {},
     "output_type": "execute_result"
    },
    {
     "data": {
      "image/png": "[encoded data removed]",
      "text/plain": [
       "<Figure size 700x700 with 1 Axes>"
      ]
     },
     "metadata": {},
     "output_type": "display_data"
    }
   ],
   "source": [
    "x_model = np.sort(x)\n",
    "y_model = sinx(x_model,A,B,C,D,E,F)\n",
    "\n",
    "f, ax = plt.subplots(1,1,figsize=(7,7))\n",
    "for tick in ax.xaxis.get_ticklabels():\n",
    "    tick.set_fontsize(20)\n",
    "for tick in ax.yaxis.get_ticklabels():\n",
    "    tick.set_fontsize(20)\n",
    "ax.errorbar(x,y,y_err,fmt='o',label='Data')\n",
    "ax.plot(x_model,y_model,color='magenta',label='Best-fit')\n",
    "ax.text(0.5,1.2,r'$\\sigma = 1$', color='0', fontsize=32)"
   ]
  },
  {
   "cell_type": "code",
   "execution_count": 92,
   "id": "e741bbf7-8bff-4b1e-9913-d0c9733a977c",
   "metadata": {},
   "outputs": [
    {
     "ename": "TypeError",
     "evalue": "Only integers, slices (`:`), ellipsis (`...`), tf.newaxis (`None`) and scalar tf.int32/tf.int64 tensors are valid indices, got array([ 0,  1,  2,  3,  4,  5,  6,  7,  8,  9, 10, 11, 12, 13, 14, 15, 16,\n       17, 18, 19, 20, 21, 22, 23, 24, 25, 26, 27, 28, 29, 30, 31, 32, 33,\n       34, 35, 36, 37, 38, 39, 40, 41, 42, 43, 44, 45, 46, 47, 48, 49, 50,\n       51, 52, 53, 54, 55, 56, 57, 58, 59, 60, 61, 62, 63, 64, 65, 66, 67,\n       68, 69, 70, 71, 72, 73, 74, 75, 76, 77, 78, 79, 80, 81],\n      dtype=int64)",
     "output_type": "error",
     "traceback": [
      "\u001b[1;31m---------------------------------------------------------------------------\u001b[0m",
      "\u001b[1;31mTypeError\u001b[0m                                 Traceback (most recent call last)",
      "Cell \u001b[1;32mIn[92], line 2\u001b[0m\n\u001b[0;32m      1\u001b[0m idx_model \u001b[38;5;241m=\u001b[39m np\u001b[38;5;241m.\u001b[39margsort(x)\n\u001b[1;32m----> 2\u001b[0m y_data \u001b[38;5;241m=\u001b[39m \u001b[43my\u001b[49m\u001b[43m[\u001b[49m\u001b[43midx_model\u001b[49m\u001b[43m]\u001b[49m\n\u001b[0;32m      3\u001b[0m y_model \u001b[38;5;241m=\u001b[39m sin(x[idx_model],A_fit,f_fit,p_fit)\n\u001b[0;32m      5\u001b[0m res \u001b[38;5;241m=\u001b[39m y_data \u001b[38;5;241m-\u001b[39m y_model\n",
      "File \u001b[1;32m~\\AppData\\Roaming\\Python\\Python311\\site-packages\\tensorflow\\python\\util\\traceback_utils.py:153\u001b[0m, in \u001b[0;36mfilter_traceback.<locals>.error_handler\u001b[1;34m(*args, **kwargs)\u001b[0m\n\u001b[0;32m    151\u001b[0m \u001b[38;5;28;01mexcept\u001b[39;00m \u001b[38;5;167;01mException\u001b[39;00m \u001b[38;5;28;01mas\u001b[39;00m e:\n\u001b[0;32m    152\u001b[0m   filtered_tb \u001b[38;5;241m=\u001b[39m _process_traceback_frames(e\u001b[38;5;241m.\u001b[39m__traceback__)\n\u001b[1;32m--> 153\u001b[0m   \u001b[38;5;28;01mraise\u001b[39;00m e\u001b[38;5;241m.\u001b[39mwith_traceback(filtered_tb) \u001b[38;5;28;01mfrom\u001b[39;00m \u001b[38;5;28;01mNone\u001b[39;00m\n\u001b[0;32m    154\u001b[0m \u001b[38;5;28;01mfinally\u001b[39;00m:\n\u001b[0;32m    155\u001b[0m   \u001b[38;5;28;01mdel\u001b[39;00m filtered_tb\n",
      "File \u001b[1;32m~\\AppData\\Roaming\\Python\\Python311\\site-packages\\tensorflow\\python\\ops\\array_ops.py:961\u001b[0m, in \u001b[0;36m_check_index\u001b[1;34m(idx)\u001b[0m\n\u001b[0;32m    956\u001b[0m dtype \u001b[38;5;241m=\u001b[39m \u001b[38;5;28mgetattr\u001b[39m(idx, \u001b[38;5;124m\"\u001b[39m\u001b[38;5;124mdtype\u001b[39m\u001b[38;5;124m\"\u001b[39m, \u001b[38;5;28;01mNone\u001b[39;00m)\n\u001b[0;32m    957\u001b[0m \u001b[38;5;28;01mif\u001b[39;00m (dtype \u001b[38;5;129;01mis\u001b[39;00m \u001b[38;5;28;01mNone\u001b[39;00m \u001b[38;5;129;01mor\u001b[39;00m dtypes\u001b[38;5;241m.\u001b[39mas_dtype(dtype) \u001b[38;5;129;01mnot\u001b[39;00m \u001b[38;5;129;01min\u001b[39;00m _SUPPORTED_SLICE_DTYPES \u001b[38;5;129;01mor\u001b[39;00m\n\u001b[0;32m    958\u001b[0m     idx\u001b[38;5;241m.\u001b[39mshape \u001b[38;5;129;01mand\u001b[39;00m \u001b[38;5;28mlen\u001b[39m(idx\u001b[38;5;241m.\u001b[39mshape) \u001b[38;5;241m==\u001b[39m \u001b[38;5;241m1\u001b[39m):\n\u001b[0;32m    959\u001b[0m   \u001b[38;5;66;03m# TODO(slebedev): IndexError seems more appropriate here, but it\u001b[39;00m\n\u001b[0;32m    960\u001b[0m   \u001b[38;5;66;03m# will break `_slice_helper` contract.\u001b[39;00m\n\u001b[1;32m--> 961\u001b[0m   \u001b[38;5;28;01mraise\u001b[39;00m \u001b[38;5;167;01mTypeError\u001b[39;00m(_SLICE_TYPE_ERROR \u001b[38;5;241m+\u001b[39m \u001b[38;5;124m\"\u001b[39m\u001b[38;5;124m, got \u001b[39m\u001b[38;5;132;01m{!r}\u001b[39;00m\u001b[38;5;124m\"\u001b[39m\u001b[38;5;241m.\u001b[39mformat(idx))\n",
      "\u001b[1;31mTypeError\u001b[0m: Only integers, slices (`:`), ellipsis (`...`), tf.newaxis (`None`) and scalar tf.int32/tf.int64 tensors are valid indices, got array([ 0,  1,  2,  3,  4,  5,  6,  7,  8,  9, 10, 11, 12, 13, 14, 15, 16,\n       17, 18, 19, 20, 21, 22, 23, 24, 25, 26, 27, 28, 29, 30, 31, 32, 33,\n       34, 35, 36, 37, 38, 39, 40, 41, 42, 43, 44, 45, 46, 47, 48, 49, 50,\n       51, 52, 53, 54, 55, 56, 57, 58, 59, 60, 61, 62, 63, 64, 65, 66, 67,\n       68, 69, 70, 71, 72, 73, 74, 75, 76, 77, 78, 79, 80, 81],\n      dtype=int64)"
     ]
    }
   ],
   "source": [
    "idx_model = np.argsort(x)\n",
    "y_data = y[idx_model]\n",
    "y_model = sin(x[idx_model],A_fit,f_fit,p_fit)\n",
    "\n",
    "res = y_data - y_model\n",
    "res = res.numpy()"
   ]
  },
  {
   "cell_type": "code",
   "execution_count": 23,
   "id": "0a3c97e7-07fe-41ea-a138-081e38bcc21a",
   "metadata": {},
   "outputs": [],
   "source": [
    "rmean = np.mean(res)\n",
    "rstd = np.std(res)"
   ]
  },
  {
   "cell_type": "code",
   "execution_count": 24,
   "id": "4bd41bfc-4f1c-481d-8d6c-b88e6f48f107",
   "metadata": {},
   "outputs": [],
   "source": [
    "def gaus(x,mu,s):\n",
    "    return 1./(2.*np.pi*s**2)**0.5 * np.exp(-0.5*((x-mu)/s)**2)"
   ]
  },
  {
   "cell_type": "code",
   "execution_count": null,
   "id": "fc42a9cc-d97b-4fa9-80df-255f65b4e219",
   "metadata": {},
   "outputs": [],
   "source": [
    "f, ax = plt.subplots(1,1,figsize=(7,7))\n",
    "for tick in ax.xaxis.get_ticklabels():\n",
    "    tick.set_fontsize(20)\n",
    "for tick in ax.yaxis.get_ticklabels():\n",
    "    tick.set_fontsize(20)\n",
    "ax.hist\n",
    "ax.set_xlim([-0.1,10.1])\n",
    "ax.set_ylim([-2.,2])\n",
    "ax.text(0.5,1.2,r'$\\sigma = 1$', color='0', fontsize=32)"
   ]
  }
 ],
 "metadata": {
  "kernelspec": {
   "display_name": "Python 3 (ipykernel)",
   "language": "python",
   "name": "python3"
  },
  "language_info": {
   "codemirror_mode": {
    "name": "ipython",
    "version": 3
   },
   "file_extension": ".py",
   "mimetype": "text/x-python",
   "name": "python",
   "nbconvert_exporter": "python",
   "pygments_lexer": "ipython3",
   "version": "3.11.5"
  }
 },
 "nbformat": 4,
 "nbformat_minor": 5
}
